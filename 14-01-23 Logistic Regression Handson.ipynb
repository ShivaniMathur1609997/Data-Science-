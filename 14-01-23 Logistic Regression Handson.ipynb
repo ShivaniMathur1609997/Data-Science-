{
 "cells": [
  {
   "cell_type": "markdown",
   "id": "6273705b",
   "metadata": {},
   "source": [
    "## Overview of Business Problem\n",
    "\n",
    "Consider a bank who wants to launch its insurance product to target the customers with high probability. They are unaware of which customer would opt for this product.\n",
    "\n",
    "In this case the bank will retrieve the data of the customer from their previous interactions and leverage machine learning\n",
    "algorithms like Logistic regression to predict which customer will be interested in the insurance and which will not."
   ]
  },
  {
   "cell_type": "markdown",
   "id": "b5775e1d",
   "metadata": {
    "id": "e276e167"
   },
   "source": [
    "Agenda :\n",
    "\n",
    "1.Importing the dataset\n",
    "\n",
    "2.Missing value Analysis\n",
    "\n",
    "3.Feature selection  feature -->independent variables    target-->dependent variable\n",
    "      \n",
    "      1.Chi-Square test\n",
    "       \n",
    "      2.IV-Score Analysis\n",
    "      \n",
    "      3.VIF \n",
    "\n",
    "4.Model fitting"
   ]
  },
  {
   "cell_type": "markdown",
   "id": "c35379cc",
   "metadata": {
    "id": "c35379cc"
   },
   "source": [
    "# Importing the data"
   ]
  },
  {
   "cell_type": "code",
   "execution_count": null,
   "id": "e92ab33f",
   "metadata": {
    "executionInfo": {
     "elapsed": 537,
     "status": "ok",
     "timestamp": 1650813808931,
     "user": {
      "displayName": "Gagana K",
      "userId": "15562097583105794401"
     },
     "user_tz": -330
    },
    "id": "e92ab33f"
   },
   "outputs": [],
   "source": [
    "import pandas as pd\n",
    "import numpy as np\n",
    "import seaborn as sns\n",
    "import matplotlib.pyplot as plt\n",
    "import warnings\n",
    "warnings.filterwarnings(\"ignore\")"
   ]
  },
  {
   "cell_type": "code",
   "execution_count": null,
   "id": "5634b252",
   "metadata": {
    "executionInfo": {
     "elapsed": 4,
     "status": "ok",
     "timestamp": 1650813809686,
     "user": {
      "displayName": "Gagana K",
      "userId": "15562097583105794401"
     },
     "user_tz": -330
    },
    "id": "5634b252"
   },
   "outputs": [],
   "source": [
    "data=pd.read_csv(r'C:\\Users\\Dell\\Downloads\\bank-additional-full.csv', sep=';')"
   ]
  },
  {
   "cell_type": "code",
   "execution_count": null,
   "id": "5e794970",
   "metadata": {
    "colab": {
     "base_uri": "https://localhost:8080/",
     "height": 769
    },
    "executionInfo": {
     "elapsed": 8,
     "status": "ok",
     "timestamp": 1650813810425,
     "user": {
      "displayName": "Gagana K",
      "userId": "15562097583105794401"
     },
     "user_tz": -330
    },
    "id": "5e794970",
    "outputId": "8251dac0-fb58-491a-92a8-7e7899c9a923"
   },
   "outputs": [],
   "source": [
    "data.head(20)"
   ]
  },
  {
   "cell_type": "code",
   "execution_count": null,
   "id": "29991181",
   "metadata": {
    "colab": {
     "base_uri": "https://localhost:8080/"
    },
    "executionInfo": {
     "elapsed": 5,
     "status": "ok",
     "timestamp": 1650813813288,
     "user": {
      "displayName": "Gagana K",
      "userId": "15562097583105794401"
     },
     "user_tz": -330
    },
    "id": "29991181",
    "outputId": "e4920b39-18ca-47bf-d332-c6f6ba67c0d4"
   },
   "outputs": [],
   "source": [
    "data.shape"
   ]
  },
  {
   "cell_type": "code",
   "execution_count": null,
   "id": "0fcd3a05",
   "metadata": {
    "scrolled": true
   },
   "outputs": [],
   "source": [
    "data.info()"
   ]
  },
  {
   "cell_type": "code",
   "execution_count": null,
   "id": "476075b2",
   "metadata": {
    "scrolled": true
   },
   "outputs": [],
   "source": [
    "data['job'].value_counts()"
   ]
  },
  {
   "cell_type": "code",
   "execution_count": null,
   "id": "34512a93",
   "metadata": {},
   "outputs": [],
   "source": [
    "data['contact'].unique()"
   ]
  },
  {
   "cell_type": "code",
   "execution_count": null,
   "id": "600ffc47",
   "metadata": {
    "colab": {
     "base_uri": "https://localhost:8080/",
     "height": 344
    },
    "executionInfo": {
     "elapsed": 8,
     "status": "ok",
     "timestamp": 1650813812329,
     "user": {
      "displayName": "Gagana K",
      "userId": "15562097583105794401"
     },
     "user_tz": -330
    },
    "id": "600ffc47",
    "outputId": "f2785382-7e56-44f7-80e1-b534b254f0c0"
   },
   "outputs": [],
   "source": [
    "data.describe()"
   ]
  },
  {
   "cell_type": "code",
   "execution_count": null,
   "id": "e6b4076b",
   "metadata": {
    "colab": {
     "base_uri": "https://localhost:8080/"
    },
    "executionInfo": {
     "elapsed": 3,
     "status": "ok",
     "timestamp": 1650813815097,
     "user": {
      "displayName": "Gagana K",
      "userId": "15562097583105794401"
     },
     "user_tz": -330
    },
    "id": "e6b4076b",
    "outputId": "74ba66d3-d22e-430d-8bd4-565abb4665ad"
   },
   "outputs": [],
   "source": [
    "data.dtypes"
   ]
  },
  {
   "cell_type": "code",
   "execution_count": null,
   "id": "2dff7f1f",
   "metadata": {
    "colab": {
     "base_uri": "https://localhost:8080/"
    },
    "executionInfo": {
     "elapsed": 5,
     "status": "ok",
     "timestamp": 1650813816587,
     "user": {
      "displayName": "Gagana K",
      "userId": "15562097583105794401"
     },
     "user_tz": -330
    },
    "id": "2dff7f1f",
    "outputId": "a169ef5d-a4c5-4f70-c7cb-42785b680d5c"
   },
   "outputs": [],
   "source": [
    "c=data['marital'].value_counts().tolist()\n",
    "c"
   ]
  },
  {
   "cell_type": "code",
   "execution_count": null,
   "id": "4e55d0da",
   "metadata": {
    "colab": {
     "base_uri": "https://localhost:8080/"
    },
    "executionInfo": {
     "elapsed": 6,
     "status": "ok",
     "timestamp": 1650813818323,
     "user": {
      "displayName": "Gagana K",
      "userId": "15562097583105794401"
     },
     "user_tz": -330
    },
    "id": "4e55d0da",
    "outputId": "8fabd25d-81d2-4021-feb0-1f5cd119bc04",
    "scrolled": true
   },
   "outputs": [],
   "source": [
    "col=list(data.columns)\n",
    "col"
   ]
  },
  {
   "cell_type": "code",
   "execution_count": null,
   "id": "beb5513c",
   "metadata": {},
   "outputs": [],
   "source": [
    "data.isnull().sum()"
   ]
  },
  {
   "cell_type": "markdown",
   "id": "c09391f7",
   "metadata": {
    "id": "c09391f7"
   },
   "source": [
    "# Boxplot\n",
    "\n",
    "Using boxplot we will be visualizing the outliers,after that we will be using IQR method and handling the outliers.\n",
    "\n",
    "with the help of boxplot we can visualize that 'age','duration','campaign','cons.conf.idx' columns has a outlier."
   ]
  },
  {
   "cell_type": "code",
   "execution_count": null,
   "id": "5b71246b",
   "metadata": {
    "executionInfo": {
     "elapsed": 471,
     "status": "ok",
     "timestamp": 1650813848290,
     "user": {
      "displayName": "Gagana K",
      "userId": "15562097583105794401"
     },
     "user_tz": -330
    },
    "id": "5b71246b",
    "scrolled": false
   },
   "outputs": [],
   "source": [
    "for col_name in col:\n",
    "    if(data[col_name].dtypes=='int64' or data[col_name].dtypes=='float64'):\n",
    "        sns.boxplot(data[col_name])\n",
    "        plt.xlabel(col_name)\n",
    "        plt.ylabel('count')\n",
    "        plt.show()"
   ]
  },
  {
   "cell_type": "code",
   "execution_count": null,
   "id": "898e4f16",
   "metadata": {
    "executionInfo": {
     "elapsed": 6,
     "status": "ok",
     "timestamp": 1650813849296,
     "user": {
      "displayName": "Gagana K",
      "userId": "15562097583105794401"
     },
     "user_tz": -330
    },
    "id": "898e4f16"
   },
   "outputs": [],
   "source": [
    "#handling outliers\n",
    "\n",
    "col_names=['age','duration','campaign','cons.conf.idx']\n",
    "Q1 = data.age.quantile(0.25)\n",
    "Q3 = data.age.quantile(0.75)\n",
    "IQR = Q3 - Q1\n",
    "data = data[(data.age >= Q1 - 1.5*IQR) & (data.age <= Q3 + 1.5*IQR)]\n",
    "\n",
    "\n",
    "Q1 = data.duration.quantile(0.25)\n",
    "Q3 = data.duration.quantile(0.75)\n",
    "IQR = Q3 - Q1\n",
    "data = data[(data.duration >= Q1 - 1.5*IQR) & (data.duration <= Q3 + 1.5*IQR)]\n",
    "\n",
    "Q1 = data.campaign.quantile(0.25)\n",
    "Q3 = data.campaign.quantile(0.75)\n",
    "IQR = Q3 - Q1\n",
    "data = data[(data.campaign >= Q1 - 1.5*IQR) & (data.campaign <= Q3 + 1.5*IQR)]\n",
    "\n",
    "Q1 = data['cons.conf.idx'].quantile(0.25)\n",
    "Q3 = data['cons.conf.idx'].quantile(0.75)\n",
    "IQR = Q3 - Q1\n",
    "data = data[(data['cons.conf.idx'] >= Q1 - 1.5*IQR) & (data['cons.conf.idx'] <= Q3 + 1.5*IQR)]"
   ]
  },
  {
   "cell_type": "code",
   "execution_count": null,
   "id": "5406e9cc",
   "metadata": {},
   "outputs": [],
   "source": [
    " sns.boxplot(data['age'])\n",
    " plt.show()   "
   ]
  },
  {
   "cell_type": "code",
   "execution_count": null,
   "id": "3957c271",
   "metadata": {
    "executionInfo": {
     "elapsed": 3,
     "status": "ok",
     "timestamp": 1650813849708,
     "user": {
      "displayName": "Gagana K",
      "userId": "15562097583105794401"
     },
     "user_tz": -330
    },
    "id": "3957c271"
   },
   "outputs": [],
   "source": [
    "for col_name in col:\n",
    "    if(data[col_name].dtypes=='int64' or data[col_name].dtypes=='float64'):\n",
    "        sns.boxplot(data[col_name])\n",
    "        plt.xlabel(col_name)\n",
    "        plt.ylabel('count')\n",
    "        plt.show()"
   ]
  },
  {
   "cell_type": "markdown",
   "id": "18909bd0",
   "metadata": {
    "id": "a765b923"
   },
   "source": [
    "So we are done with Handling outliers so once again we'll plot the box plot and check the difference before and after.\n",
    "\n",
    "From the above box plot we can visualize that all the outliers have been removed ."
   ]
  },
  {
   "cell_type": "markdown",
   "id": "3c97cee1",
   "metadata": {
    "id": "3c97cee1"
   },
   "source": [
    "# Missing Value Analysis\n",
    "\n",
    "\n",
    "Checking for missing values and replacing the respective numerical and categorical values with mean/median and mode"
   ]
  },
  {
   "cell_type": "code",
   "execution_count": null,
   "id": "1a62f587",
   "metadata": {
    "colab": {
     "base_uri": "https://localhost:8080/"
    },
    "executionInfo": {
     "elapsed": 339,
     "status": "ok",
     "timestamp": 1650813824284,
     "user": {
      "displayName": "Gagana K",
      "userId": "15562097583105794401"
     },
     "user_tz": -330
    },
    "id": "1a62f587",
    "outputId": "7e03fcf7-717c-4de9-cb35-ea76781ec7c5",
    "scrolled": true
   },
   "outputs": [],
   "source": [
    "#Checking for missing values and replacing the respective numerical and categorical values with mean/median and mode\n",
    "\n",
    "data.isna().sum()"
   ]
  },
  {
   "cell_type": "code",
   "execution_count": null,
   "id": "6db8c0db",
   "metadata": {},
   "outputs": [],
   "source": [
    "data['y']"
   ]
  },
  {
   "cell_type": "code",
   "execution_count": null,
   "id": "a8cc08cb",
   "metadata": {
    "executionInfo": {
     "elapsed": 9,
     "status": "ok",
     "timestamp": 1650813825574,
     "user": {
      "displayName": "Gagana K",
      "userId": "15562097583105794401"
     },
     "user_tz": -330
    },
    "id": "a8cc08cb"
   },
   "outputs": [],
   "source": [
    "\n",
    "data['y'] = np.where(data['y'] == 'yes',1,0)\n",
    "data['y'].dtype"
   ]
  },
  {
   "cell_type": "code",
   "execution_count": null,
   "id": "4753abbf",
   "metadata": {
    "executionInfo": {
     "elapsed": 3,
     "status": "ok",
     "timestamp": 1650813826077,
     "user": {
      "displayName": "Gagana K",
      "userId": "15562097583105794401"
     },
     "user_tz": -330
    },
    "id": "4753abbf"
   },
   "outputs": [],
   "source": [
    "data['y'] = data['y'].astype(str)"
   ]
  },
  {
   "cell_type": "code",
   "execution_count": null,
   "id": "6f2e67ad",
   "metadata": {
    "colab": {
     "base_uri": "https://localhost:8080/"
    },
    "executionInfo": {
     "elapsed": 23,
     "status": "ok",
     "timestamp": 1650813826891,
     "user": {
      "displayName": "Gagana K",
      "userId": "15562097583105794401"
     },
     "user_tz": -330
    },
    "id": "6f2e67ad",
    "outputId": "80a72d0f-0a3e-40e4-f1e7-79da477192fd"
   },
   "outputs": [],
   "source": [
    "data.dtypes"
   ]
  },
  {
   "cell_type": "code",
   "execution_count": null,
   "id": "34cfabc7",
   "metadata": {
    "executionInfo": {
     "elapsed": 5,
     "status": "ok",
     "timestamp": 1650813826892,
     "user": {
      "displayName": "Gagana K",
      "userId": "15562097583105794401"
     },
     "user_tz": -330
    },
    "id": "34cfabc7"
   },
   "outputs": [],
   "source": [
    "#taking all columns in single list\n",
    "col_list = list(data.columns)"
   ]
  },
  {
   "cell_type": "code",
   "execution_count": null,
   "id": "20f96d85",
   "metadata": {
    "colab": {
     "base_uri": "https://localhost:8080/"
    },
    "executionInfo": {
     "elapsed": 19,
     "status": "ok",
     "timestamp": 1650813828020,
     "user": {
      "displayName": "Gagana K",
      "userId": "15562097583105794401"
     },
     "user_tz": -330
    },
    "id": "20f96d85",
    "outputId": "4163f0d5-d8cf-4e66-de02-cb071326a8cc"
   },
   "outputs": [],
   "source": [
    "data.columns"
   ]
  },
  {
   "cell_type": "code",
   "execution_count": null,
   "id": "b6694fa3",
   "metadata": {
    "colab": {
     "base_uri": "https://localhost:8080/"
    },
    "executionInfo": {
     "elapsed": 17,
     "status": "ok",
     "timestamp": 1650813828022,
     "user": {
      "displayName": "Gagana K",
      "userId": "15562097583105794401"
     },
     "user_tz": -330
    },
    "id": "b6694fa3",
    "outputId": "f1f26467-2920-4fbf-b254-f61a30658dc7"
   },
   "outputs": [],
   "source": [
    "col_list"
   ]
  },
  {
   "cell_type": "code",
   "execution_count": null,
   "id": "e78ebb69",
   "metadata": {
    "executionInfo": {
     "elapsed": 3,
     "status": "ok",
     "timestamp": 1650813830059,
     "user": {
      "displayName": "Gagana K",
      "userId": "15562097583105794401"
     },
     "user_tz": -330
    },
    "id": "e78ebb69"
   },
   "outputs": [],
   "source": [
    "\n",
    "for col in col_list:\n",
    "    if data[col].dtypes=='object':\n",
    "        #print('ob')\n",
    "        data[col] = data[col].fillna(data[col].mode()[0])\n",
    "    else:\n",
    "        #print('num')\n",
    "        data[col] = data[col].fillna(data[col].mean())"
   ]
  },
  {
   "cell_type": "code",
   "execution_count": null,
   "id": "0ff4fd96",
   "metadata": {
    "colab": {
     "base_uri": "https://localhost:8080/",
     "height": 299
    },
    "executionInfo": {
     "elapsed": 16,
     "status": "ok",
     "timestamp": 1650813833126,
     "user": {
      "displayName": "Gagana K",
      "userId": "15562097583105794401"
     },
     "user_tz": -330
    },
    "id": "0ff4fd96",
    "outputId": "241b753c-85c8-4910-fdf3-c297d04fcdf5"
   },
   "outputs": [],
   "source": [
    "data.tail()"
   ]
  },
  {
   "cell_type": "markdown",
   "id": "ac27899f",
   "metadata": {
    "id": "a03f6fbb"
   },
   "source": [
    "After replacing with mean/median and mode ,we can check for the null values again and check the result"
   ]
  },
  {
   "cell_type": "code",
   "execution_count": null,
   "id": "948da157",
   "metadata": {
    "colab": {
     "base_uri": "https://localhost:8080/"
    },
    "executionInfo": {
     "elapsed": 5,
     "status": "ok",
     "timestamp": 1650813836045,
     "user": {
      "displayName": "Gagana K",
      "userId": "15562097583105794401"
     },
     "user_tz": -330
    },
    "id": "948da157",
    "outputId": "56d666c4-b3af-4876-a081-9314385ff3f6"
   },
   "outputs": [],
   "source": [
    "data.isna().sum()"
   ]
  },
  {
   "cell_type": "markdown",
   "id": "432b8be3",
   "metadata": {
    "id": "432b8be3"
   },
   "source": [
    "# Feature Selection\n",
    "\n",
    "Why feature selection methods on the data?\n",
    "\n",
    "\n",
    "because once you select a relevant features(independent attributes) ,then your model become more interpretable and model training speeds up and you'll end up with a efficient model."
   ]
  },
  {
   "cell_type": "code",
   "execution_count": null,
   "id": "414884a6",
   "metadata": {
    "scrolled": true
   },
   "outputs": [],
   "source": [
    "data.head()"
   ]
  },
  {
   "cell_type": "code",
   "execution_count": null,
   "id": "f860d5a8",
   "metadata": {
    "scrolled": true
   },
   "outputs": [],
   "source": [
    "data['age'] = data.age.astype(int)"
   ]
  },
  {
   "cell_type": "code",
   "execution_count": null,
   "id": "f2a52a49",
   "metadata": {
    "executionInfo": {
     "elapsed": 889,
     "status": "ok",
     "timestamp": 1650813863120,
     "user": {
      "displayName": "Gagana K",
      "userId": "15562097583105794401"
     },
     "user_tz": -330
    },
    "id": "f2a52a49"
   },
   "outputs": [],
   "source": [
    "# Binning\n",
    "bins = [0,50,100]\n",
    "data['age'] = pd.cut(data['age'], bins)\n",
    "\n",
    "data['age'] = data.age.astype(str)"
   ]
  },
  {
   "cell_type": "code",
   "execution_count": null,
   "id": "064a3395",
   "metadata": {
    "executionInfo": {
     "elapsed": 9,
     "status": "ok",
     "timestamp": 1650813864940,
     "user": {
      "displayName": "Gagana K",
      "userId": "15562097583105794401"
     },
     "user_tz": -330
    },
    "id": "064a3395"
   },
   "outputs": [],
   "source": [
    "pd.cut?"
   ]
  },
  {
   "cell_type": "code",
   "execution_count": null,
   "id": "6393ccee",
   "metadata": {
    "colab": {
     "base_uri": "https://localhost:8080/"
    },
    "executionInfo": {
     "elapsed": 64,
     "status": "ok",
     "timestamp": 1650813864996,
     "user": {
      "displayName": "Gagana K",
      "userId": "15562097583105794401"
     },
     "user_tz": -330
    },
    "id": "6393ccee",
    "outputId": "601cfb94-f29c-4b6d-841c-760b14a8a93b"
   },
   "outputs": [],
   "source": [
    "data['age'].value_counts()/len(data['age'])"
   ]
  },
  {
   "cell_type": "code",
   "execution_count": null,
   "id": "75caec3c",
   "metadata": {
    "colab": {
     "base_uri": "https://localhost:8080/",
     "height": 661
    },
    "executionInfo": {
     "elapsed": 51,
     "status": "ok",
     "timestamp": 1650813866468,
     "user": {
      "displayName": "Gagana K",
      "userId": "15562097583105794401"
     },
     "user_tz": -330
    },
    "id": "75caec3c",
    "outputId": "85bf6a2c-ca2a-4980-a4cd-4a5888d63644"
   },
   "outputs": [],
   "source": [
    "data"
   ]
  },
  {
   "cell_type": "code",
   "execution_count": null,
   "id": "54610977",
   "metadata": {
    "colab": {
     "base_uri": "https://localhost:8080/"
    },
    "executionInfo": {
     "elapsed": 50,
     "status": "ok",
     "timestamp": 1650813866471,
     "user": {
      "displayName": "Gagana K",
      "userId": "15562097583105794401"
     },
     "user_tz": -330
    },
    "id": "54610977",
    "outputId": "1b6dae78-ae3a-448c-c351-597478177915"
   },
   "outputs": [],
   "source": [
    "data.columns"
   ]
  },
  {
   "cell_type": "code",
   "execution_count": null,
   "id": "61b0e862",
   "metadata": {
    "colab": {
     "base_uri": "https://localhost:8080/"
    },
    "executionInfo": {
     "elapsed": 38,
     "status": "ok",
     "timestamp": 1650813866477,
     "user": {
      "displayName": "Gagana K",
      "userId": "15562097583105794401"
     },
     "user_tz": -330
    },
    "id": "61b0e862",
    "outputId": "47f0f02d-db60-4055-c879-94b99ca108eb"
   },
   "outputs": [],
   "source": [
    "data.age.value_counts()"
   ]
  },
  {
   "cell_type": "code",
   "execution_count": null,
   "id": "555f9758",
   "metadata": {
    "colab": {
     "base_uri": "https://localhost:8080/",
     "height": 661
    },
    "executionInfo": {
     "elapsed": 30,
     "status": "ok",
     "timestamp": 1650813866478,
     "user": {
      "displayName": "Gagana K",
      "userId": "15562097583105794401"
     },
     "user_tz": -330
    },
    "id": "555f9758",
    "outputId": "de5816f2-8a00-4194-8592-ab184ba341f5"
   },
   "outputs": [],
   "source": [
    "data"
   ]
  },
  {
   "cell_type": "markdown",
   "id": "dbac721a",
   "metadata": {
    "id": "dbac721a"
   },
   "source": [
    "# one hot encoding"
   ]
  },
  {
   "cell_type": "code",
   "execution_count": null,
   "id": "90251853",
   "metadata": {
    "colab": {
     "base_uri": "https://localhost:8080/"
    },
    "executionInfo": {
     "elapsed": 5,
     "status": "ok",
     "timestamp": 1650813870589,
     "user": {
      "displayName": "Gagana K",
      "userId": "15562097583105794401"
     },
     "user_tz": -330
    },
    "id": "90251853",
    "outputId": "e5c8a488-1922-4efb-f23c-b67aa4abb919"
   },
   "outputs": [],
   "source": [
    "#one hot encoding\n",
    "col_list = []\n",
    "for col in data.columns:\n",
    "    if ((data[col].dtype == 'object') & (col != 'y') ):\n",
    "        col_list.append(col)\n",
    "\n",
    "df_2 = pd.get_dummies(data[col_list],drop_first=True)\n",
    "\n",
    "for col in df_2.columns:\n",
    "    df_2[col] =  df_2[col].astype(int)\n",
    "df_2.shape"
   ]
  },
  {
   "cell_type": "code",
   "execution_count": null,
   "id": "6ba1fef3",
   "metadata": {
    "colab": {
     "base_uri": "https://localhost:8080/",
     "height": 487
    },
    "executionInfo": {
     "elapsed": 9,
     "status": "ok",
     "timestamp": 1650813871313,
     "user": {
      "displayName": "Gagana K",
      "userId": "15562097583105794401"
     },
     "user_tz": -330
    },
    "id": "6ba1fef3",
    "outputId": "621abfa8-aae4-4ec0-da27-735c31fc6e9b"
   },
   "outputs": [],
   "source": [
    "data"
   ]
  },
  {
   "cell_type": "code",
   "execution_count": null,
   "id": "7dd3b710",
   "metadata": {
    "colab": {
     "base_uri": "https://localhost:8080/",
     "height": 505
    },
    "executionInfo": {
     "elapsed": 18,
     "status": "ok",
     "timestamp": 1650813872198,
     "user": {
      "displayName": "Gagana K",
      "userId": "15562097583105794401"
     },
     "user_tz": -330
    },
    "id": "7dd3b710",
    "outputId": "9555114b-c416-474c-9da9-8e97754e1990",
    "scrolled": true
   },
   "outputs": [],
   "source": [
    "df_2"
   ]
  },
  {
   "cell_type": "code",
   "execution_count": null,
   "id": "1ad0b7ee",
   "metadata": {},
   "outputs": [],
   "source": []
  },
  {
   "cell_type": "code",
   "execution_count": null,
   "id": "226b100e",
   "metadata": {
    "colab": {
     "base_uri": "https://localhost:8080/"
    },
    "executionInfo": {
     "elapsed": 18,
     "status": "ok",
     "timestamp": 1650813872200,
     "user": {
      "displayName": "Gagana K",
      "userId": "15562097583105794401"
     },
     "user_tz": -330
    },
    "id": "226b100e",
    "outputId": "7a0b53f8-7e08-482f-e366-6f80474cd4b7"
   },
   "outputs": [],
   "source": [
    "df_2.columns"
   ]
  },
  {
   "cell_type": "code",
   "execution_count": null,
   "id": "5960a8fc",
   "metadata": {
    "colab": {
     "base_uri": "https://localhost:8080/"
    },
    "executionInfo": {
     "elapsed": 13,
     "status": "ok",
     "timestamp": 1650813872792,
     "user": {
      "displayName": "Gagana K",
      "userId": "15562097583105794401"
     },
     "user_tz": -330
    },
    "id": "5960a8fc",
    "outputId": "10e0475f-e599-4e36-95ad-61d698c67027"
   },
   "outputs": [],
   "source": [
    "df_combined = pd.concat([data, df_2], axis=1)\n",
    "df_combined.shape                                                                                  "
   ]
  },
  {
   "cell_type": "code",
   "execution_count": null,
   "id": "b9423704",
   "metadata": {
    "colab": {
     "base_uri": "https://localhost:8080/",
     "height": 299
    },
    "executionInfo": {
     "elapsed": 17,
     "status": "ok",
     "timestamp": 1650813872798,
     "user": {
      "displayName": "Gagana K",
      "userId": "15562097583105794401"
     },
     "user_tz": -330
    },
    "id": "b9423704",
    "outputId": "67bfd6e3-9425-4d66-ebe3-19e3f2c20063"
   },
   "outputs": [],
   "source": [
    "df_combined.head()"
   ]
  },
  {
   "cell_type": "code",
   "execution_count": null,
   "id": "36869822",
   "metadata": {
    "colab": {
     "base_uri": "https://localhost:8080/"
    },
    "executionInfo": {
     "elapsed": 4,
     "status": "ok",
     "timestamp": 1650813873168,
     "user": {
      "displayName": "Gagana K",
      "userId": "15562097583105794401"
     },
     "user_tz": -330
    },
    "id": "36869822",
    "outputId": "2d3e3049-3fc5-49a4-cbee-cc3cdec3667c"
   },
   "outputs": [],
   "source": [
    "col_list"
   ]
  },
  {
   "cell_type": "code",
   "execution_count": null,
   "id": "2bfad6a1",
   "metadata": {
    "executionInfo": {
     "elapsed": 4,
     "status": "ok",
     "timestamp": 1650813873169,
     "user": {
      "displayName": "Gagana K",
      "userId": "15562097583105794401"
     },
     "user_tz": -330
    },
    "id": "2bfad6a1"
   },
   "outputs": [],
   "source": [
    "##Drop fields for which dummy vars already created\n",
    "df_combined.drop(columns = col_list,axis = 1,inplace = True)"
   ]
  },
  {
   "cell_type": "code",
   "execution_count": null,
   "id": "fb264f36",
   "metadata": {
    "colab": {
     "base_uri": "https://localhost:8080/"
    },
    "executionInfo": {
     "elapsed": 4,
     "status": "ok",
     "timestamp": 1650813876218,
     "user": {
      "displayName": "Gagana K",
      "userId": "15562097583105794401"
     },
     "user_tz": -330
    },
    "id": "fb264f36",
    "outputId": "ae5020ad-f0d8-48ca-d6ee-5a8d86325b10"
   },
   "outputs": [],
   "source": [
    "df_combined.dtypes"
   ]
  },
  {
   "cell_type": "code",
   "execution_count": null,
   "id": "8f503948",
   "metadata": {
    "colab": {
     "base_uri": "https://localhost:8080/",
     "height": 299
    },
    "executionInfo": {
     "elapsed": 10,
     "status": "ok",
     "timestamp": 1650813881509,
     "user": {
      "displayName": "Gagana K",
      "userId": "15562097583105794401"
     },
     "user_tz": -330
    },
    "id": "8f503948",
    "outputId": "3be44600-82fc-4a4c-d81a-627e7195acb9"
   },
   "outputs": [],
   "source": [
    "df_combined.head()"
   ]
  },
  {
   "cell_type": "markdown",
   "id": "f39e5e80",
   "metadata": {},
   "source": [
    "# Label Encoding"
   ]
  },
  {
   "cell_type": "code",
   "execution_count": null,
   "id": "d75e1e0a",
   "metadata": {},
   "outputs": [],
   "source": [
    "from sklearn.preprocessing import LabelEncoder\n",
    "labelencoder = LabelEncoder()\n",
    "for i in col_list:\n",
    "    data[i]=labelencoder.fit_transform(data[i])"
   ]
  },
  {
   "cell_type": "code",
   "execution_count": null,
   "id": "1fa1518f",
   "metadata": {
    "scrolled": true
   },
   "outputs": [],
   "source": [
    "data.head()"
   ]
  },
  {
   "attachments": {
    "image-2.png": {
     "image/png": "[encoded data removed]"
    }
   },
   "cell_type": "markdown",
   "id": "f66854c6",
   "metadata": {},
   "source": [
    "## What is Multicollinearity Analysis ?\n",
    "\n",
    "This is the process of occurrence of multiple intercorrelation among one or more independent variables\n",
    "\n",
    "As collinearity analysis cannot find the hidden correlations, we use multicollinearity analysis.\n",
    "\n",
    "![image-2.png](attachment:image-2.png)\n",
    "\n",
    "-> So, in the diagram we can see that Y has a correlation with X1, X2, X3 and X4.\n",
    "\n",
    "-> We can also see that X1 and X2 also have a high correlation.\n",
    "\n",
    "-> Think of overlap between these bubbles as correlation in variables.\n",
    "\n",
    "-> This process helps to avoid overlap between these independent variables."
   ]
  },
  {
   "cell_type": "markdown",
   "id": "6060a022",
   "metadata": {},
   "source": [
    "## Why Collinearity Analysis\n",
    "\n",
    "-> Simply putting we first eliminate the highest correlated variable and then eliminate the next highest correlated variable.\n",
    "\n",
    "-> The variables with high correlation can be removed by using VIF."
   ]
  },
  {
   "cell_type": "markdown",
   "id": "d96296ab",
   "metadata": {
    "id": "d96296ab"
   },
   "source": [
    "## VIF\n",
    "\n",
    "A variance inflation factor (VIF) is  a measure of multicollinearity among the independent variables in a multiple regression model.\n",
    "\n",
    "\n",
    "Finding  multicollinearity is important because while multicollinearity does not reduce the explanatory power of the model, it does reduce the statistical significance of the independent variables. \n",
    "\n",
    "\n",
    "A large variance inflation factor (VIF) on an independent variable indicates a highly collinear relationship to the other variables that should be considered or adjusted for in the structure of the model and selection of independent variables.\n",
    "\n",
    "\n",
    "So we'll consider the VIF values <=5 ,rest all we'll remove the featuers with value >5.\n"
   ]
  },
  {
   "cell_type": "code",
   "execution_count": null,
   "id": "7e01c0a7",
   "metadata": {
    "colab": {
     "base_uri": "https://localhost:8080/"
    },
    "executionInfo": {
     "elapsed": 5127,
     "status": "ok",
     "timestamp": 1650813888517,
     "user": {
      "displayName": "Gagana K",
      "userId": "15562097583105794401"
     },
     "user_tz": -330
    },
    "id": "7e01c0a7",
    "outputId": "31008004-5bf4-409e-ebc3-dc583f8ac6eb"
   },
   "outputs": [],
   "source": [
    "\n",
    "\n",
    "from statsmodels.stats.outliers_influence import variance_inflation_factor \n",
    "col_list = []\n",
    "for col in data.columns:\n",
    "    if ((data[col].dtype != 'object') & (col != 'y') ):\n",
    "        col_list.append(col)\n",
    "\n",
    "X = data[col_list]\n",
    "vif_data = pd.DataFrame() \n",
    "vif_data[\"feature\"] = X.columns \n",
    "vif_data[\"VIF\"] = [variance_inflation_factor(X.values, i) \n",
    "                          for i in range(len(X.columns))] \n",
    "vif_data\n",
    "#dset = dset.replace({'WoE': {np.inf: 0, -np.inf: 0}})"
   ]
  },
  {
   "cell_type": "code",
   "execution_count": null,
   "id": "ovutx6S-LPzn",
   "metadata": {
    "colab": {
     "base_uri": "https://localhost:8080/",
     "height": 505
    },
    "executionInfo": {
     "elapsed": 362,
     "status": "ok",
     "timestamp": 1650813897560,
     "user": {
      "displayName": "Gagana K",
      "userId": "15562097583105794401"
     },
     "user_tz": -330
    },
    "id": "ovutx6S-LPzn",
    "outputId": "5ae0e2dc-7ccc-4f95-9526-260cb46e16e7"
   },
   "outputs": [],
   "source": [
    "X"
   ]
  },
  {
   "cell_type": "code",
   "execution_count": null,
   "id": "k2_0xTCPLTNf",
   "metadata": {
    "colab": {
     "base_uri": "https://localhost:8080/"
    },
    "executionInfo": {
     "elapsed": 347,
     "status": "ok",
     "timestamp": 1650813915201,
     "user": {
      "displayName": "Gagana K",
      "userId": "15562097583105794401"
     },
     "user_tz": -330
    },
    "id": "k2_0xTCPLTNf",
    "outputId": "0becd737-bbe8-4e1f-dc6f-1434f0d61695"
   },
   "outputs": [],
   "source": [
    "X.values\n"
   ]
  },
  {
   "cell_type": "code",
   "execution_count": null,
   "id": "cACNdMjTATz9",
   "metadata": {
    "colab": {
     "base_uri": "https://localhost:8080/"
    },
    "executionInfo": {
     "elapsed": 5332,
     "status": "ok",
     "timestamp": 1650814071529,
     "user": {
      "displayName": "Gagana K",
      "userId": "15562097583105794401"
     },
     "user_tz": -330
    },
    "id": "cACNdMjTATz9",
    "outputId": "66461705-4e93-497a-8100-1445ae9e59a4"
   },
   "outputs": [],
   "source": [
    "\n",
    "\n",
    "from statsmodels.stats.outliers_influence import variance_inflation_factor \n",
    "col_list = []\n",
    "for col in data.columns:\n",
    "    if ((data[col].dtype != 'object') & (col != 'y') ):\n",
    "        col_list.append(col)\n",
    "\n",
    "X = data[col_list]\n",
    "vif_data = pd.DataFrame() \n",
    "vif_data[\"feature\"] = X.columns \n",
    "vif_data[\"VIF\"] = [variance_inflation_factor(X.values, i) \n",
    "                          for i in range(len(X.columns))] \n",
    "vif_data\n"
   ]
  },
  {
   "cell_type": "code",
   "execution_count": null,
   "id": "9147548e",
   "metadata": {
    "executionInfo": {
     "elapsed": 365,
     "status": "ok",
     "timestamp": 1650814163555,
     "user": {
      "displayName": "Gagana K",
      "userId": "15562097583105794401"
     },
     "user_tz": -330
    },
    "id": "9147548e"
   },
   "outputs": [],
   "source": [
    "data=data.drop(['nr.employed'], axis = 1)"
   ]
  },
  {
   "cell_type": "code",
   "execution_count": null,
   "id": "ANqTGUyEAVOO",
   "metadata": {
    "colab": {
     "base_uri": "https://localhost:8080/"
    },
    "executionInfo": {
     "elapsed": 5075,
     "status": "ok",
     "timestamp": 1650814175093,
     "user": {
      "displayName": "Gagana K",
      "userId": "15562097583105794401"
     },
     "user_tz": -330
    },
    "id": "ANqTGUyEAVOO",
    "outputId": "35c22a0b-0a79-4019-d22b-c93b6c660e06"
   },
   "outputs": [],
   "source": [
    "\n",
    "\n",
    "from statsmodels.stats.outliers_influence import variance_inflation_factor \n",
    "col_list = []\n",
    "for col in data.columns:\n",
    "    if ((data[col].dtype != 'object') & (col != 'y') ):\n",
    "        col_list.append(col)\n",
    "\n",
    "X = data[col_list]\n",
    "vif_data = pd.DataFrame() \n",
    "vif_data[\"feature\"] = X.columns \n",
    "vif_data[\"VIF\"] = [variance_inflation_factor(X.values, i) \n",
    "                          for i in range(len(X.columns))] \n",
    "vif_data"
   ]
  },
  {
   "cell_type": "code",
   "execution_count": null,
   "id": "263fa8ad",
   "metadata": {
    "executionInfo": {
     "elapsed": 5,
     "status": "ok",
     "timestamp": 1650814223760,
     "user": {
      "displayName": "Gagana K",
      "userId": "15562097583105794401"
     },
     "user_tz": -330
    },
    "id": "263fa8ad"
   },
   "outputs": [],
   "source": [
    "data=data.drop(['cons.price.idx'], axis = 1)"
   ]
  },
  {
   "cell_type": "code",
   "execution_count": null,
   "id": "a0c43448",
   "metadata": {
    "colab": {
     "base_uri": "https://localhost:8080/"
    },
    "executionInfo": {
     "elapsed": 4833,
     "status": "ok",
     "timestamp": 1650814231736,
     "user": {
      "displayName": "Gagana K",
      "userId": "15562097583105794401"
     },
     "user_tz": -330
    },
    "id": "a0c43448",
    "outputId": "b73d0e04-be1b-4758-8e5f-1f2dbcfccb39"
   },
   "outputs": [],
   "source": [
    "col_list = []\n",
    "for col in data.columns:\n",
    "    if ((data[col].dtype != 'object') & (col != 'y') ):\n",
    "        col_list.append(col)\n",
    "\n",
    "X = data[col_list]\n",
    "vif_data = pd.DataFrame() \n",
    "vif_data[\"feature\"] = X.columns \n",
    "vif_data[\"VIF\"] = [variance_inflation_factor(X.values, i) \n",
    "                          for i in range(len(X.columns))] \n",
    "vif_data"
   ]
  },
  {
   "cell_type": "code",
   "execution_count": null,
   "id": "26e35cae",
   "metadata": {
    "id": "26e35cae",
    "outputId": "d948bb8e-c9a1-4ec1-db39-22f33b40fe5c"
   },
   "outputs": [],
   "source": [
    "col_list = []\n",
    "for col in data.columns:\n",
    "    if ((data[col].dtype != 'object') & (col != 'y') ):\n",
    "        col_list.append(col)\n",
    "\n",
    "X = data[col_list]\n",
    "vif_data = pd.DataFrame() \n",
    "vif_data[\"feature\"] = X.columns \n",
    "vif_data[\"VIF\"] = [variance_inflation_factor(X.values, i) \n",
    "                          for i in range(len(X.columns))] \n",
    "vif_data"
   ]
  },
  {
   "cell_type": "code",
   "execution_count": null,
   "id": "cfb08b33",
   "metadata": {
    "executionInfo": {
     "elapsed": 352,
     "status": "ok",
     "timestamp": 1650814248185,
     "user": {
      "displayName": "Gagana K",
      "userId": "15562097583105794401"
     },
     "user_tz": -330
    },
    "id": "cfb08b33"
   },
   "outputs": [],
   "source": [
    "data=data.drop(['pdays'], axis = 1)"
   ]
  },
  {
   "cell_type": "code",
   "execution_count": null,
   "id": "13f66b68",
   "metadata": {
    "colab": {
     "base_uri": "https://localhost:8080/"
    },
    "executionInfo": {
     "elapsed": 4425,
     "status": "ok",
     "timestamp": 1650814255074,
     "user": {
      "displayName": "Gagana K",
      "userId": "15562097583105794401"
     },
     "user_tz": -330
    },
    "id": "13f66b68",
    "outputId": "f39e573f-5608-4c6a-8e0d-b3821eab8eab"
   },
   "outputs": [],
   "source": [
    "col_list = []\n",
    "for col in data.columns:\n",
    "    if ((data[col].dtype != 'object') & (col != 'y') ):\n",
    "        col_list.append(col)\n",
    "\n",
    "X = data[col_list]\n",
    "vif_data = pd.DataFrame() \n",
    "vif_data[\"feature\"] = X.columns \n",
    "vif_data[\"VIF\"] = [variance_inflation_factor(X.values, i) \n",
    "                          for i in range(len(X.columns))] \n",
    "print(vif_data)"
   ]
  },
  {
   "cell_type": "code",
   "execution_count": null,
   "id": "b44dc4a4",
   "metadata": {
    "executionInfo": {
     "elapsed": 381,
     "status": "ok",
     "timestamp": 1650814264396,
     "user": {
      "displayName": "Gagana K",
      "userId": "15562097583105794401"
     },
     "user_tz": -330
    },
    "id": "b44dc4a4"
   },
   "outputs": [],
   "source": [
    "data=data.drop(['euribor3m'], axis = 1)"
   ]
  },
  {
   "cell_type": "code",
   "execution_count": null,
   "id": "54976525",
   "metadata": {
    "colab": {
     "base_uri": "https://localhost:8080/"
    },
    "executionInfo": {
     "elapsed": 3865,
     "status": "ok",
     "timestamp": 1650814270425,
     "user": {
      "displayName": "Gagana K",
      "userId": "15562097583105794401"
     },
     "user_tz": -330
    },
    "id": "54976525",
    "outputId": "054c04d4-0494-4caa-8e59-c4a9b742d846"
   },
   "outputs": [],
   "source": [
    "col_list = []\n",
    "for col in data.columns:\n",
    "    if ((data[col].dtype != 'object') & (col != 'y') ):\n",
    "        col_list.append(col)\n",
    "\n",
    "X = data[col_list]\n",
    "vif_data = pd.DataFrame() \n",
    "vif_data[\"feature\"] = X.columns \n",
    "vif_data[\"VIF\"] = [variance_inflation_factor(X.values, i) \n",
    "                          for i in range(len(X.columns))] \n",
    "print(vif_data)"
   ]
  },
  {
   "cell_type": "code",
   "execution_count": null,
   "id": "27458554",
   "metadata": {
    "executionInfo": {
     "elapsed": 350,
     "status": "ok",
     "timestamp": 1650814279074,
     "user": {
      "displayName": "Gagana K",
      "userId": "15562097583105794401"
     },
     "user_tz": -330
    },
    "id": "27458554"
   },
   "outputs": [],
   "source": [
    "data=data.drop(['cons.conf.idx'], axis = 1)"
   ]
  },
  {
   "cell_type": "code",
   "execution_count": null,
   "id": "55e38cb5",
   "metadata": {
    "colab": {
     "base_uri": "https://localhost:8080/"
    },
    "executionInfo": {
     "elapsed": 3867,
     "status": "ok",
     "timestamp": 1650814285905,
     "user": {
      "displayName": "Gagana K",
      "userId": "15562097583105794401"
     },
     "user_tz": -330
    },
    "id": "55e38cb5",
    "outputId": "2e7606f3-8f56-49dc-be63-832b126588b8"
   },
   "outputs": [],
   "source": [
    "col_list = []\n",
    "for col in data.columns:\n",
    "    if ((data[col].dtype != 'object') & (col != 'y') ):\n",
    "        col_list.append(col)\n",
    "\n",
    "X = data[col_list]\n",
    "vif_data = pd.DataFrame() \n",
    "vif_data[\"feature\"] = X.columns \n",
    "vif_data[\"VIF\"] = [variance_inflation_factor(X.values, i) \n",
    "                          for i in range(len(X.columns))] \n",
    "print(vif_data)"
   ]
  },
  {
   "cell_type": "code",
   "execution_count": null,
   "id": "49bd4a35",
   "metadata": {
    "executionInfo": {
     "elapsed": 372,
     "status": "ok",
     "timestamp": 1650814294722,
     "user": {
      "displayName": "Gagana K",
      "userId": "15562097583105794401"
     },
     "user_tz": -330
    },
    "id": "49bd4a35"
   },
   "outputs": [],
   "source": [
    "data=data.drop(['poutcome'], axis = 1)"
   ]
  },
  {
   "cell_type": "code",
   "execution_count": null,
   "id": "732a7f39",
   "metadata": {
    "colab": {
     "base_uri": "https://localhost:8080/"
    },
    "executionInfo": {
     "elapsed": 3258,
     "status": "ok",
     "timestamp": 1650814300679,
     "user": {
      "displayName": "Gagana K",
      "userId": "15562097583105794401"
     },
     "user_tz": -330
    },
    "id": "732a7f39",
    "outputId": "f7515772-7209-4e99-ab13-6f20faea6678"
   },
   "outputs": [],
   "source": [
    "col_list = []\n",
    "for col in data.columns:\n",
    "    if ((data[col].dtype != 'object') & (col != 'y') ):\n",
    "        col_list.append(col)\n",
    "\n",
    "X = data[col_list]\n",
    "vif_data = pd.DataFrame() \n",
    "vif_data[\"feature\"] = X.columns \n",
    "vif_data[\"VIF\"] = [variance_inflation_factor(X.values, i) \n",
    "                          for i in range(len(X.columns))] \n",
    "print(vif_data)"
   ]
  },
  {
   "cell_type": "code",
   "execution_count": null,
   "id": "d9c17540",
   "metadata": {
    "id": "d9c17540"
   },
   "outputs": [],
   "source": [
    "data"
   ]
  },
  {
   "cell_type": "markdown",
   "id": "db62817b",
   "metadata": {
    "id": "db62817b"
   },
   "source": [
    "# Model building"
   ]
  },
  {
   "cell_type": "code",
   "execution_count": null,
   "id": "fe904399",
   "metadata": {
    "executionInfo": {
     "elapsed": 360,
     "status": "ok",
     "timestamp": 1650814587997,
     "user": {
      "displayName": "Gagana K",
      "userId": "15562097583105794401"
     },
     "user_tz": -330
    },
    "id": "fe904399"
   },
   "outputs": [],
   "source": [
    "Ind_Features = list(data.columns)\n",
    "Ind_Features.remove('y')\n",
    "x = data[Ind_Features]\n",
    "y = data['y']"
   ]
  },
  {
   "cell_type": "code",
   "execution_count": null,
   "id": "73df3d8c",
   "metadata": {
    "colab": {
     "base_uri": "https://localhost:8080/",
     "height": 505
    },
    "executionInfo": {
     "elapsed": 684,
     "status": "ok",
     "timestamp": 1650814590536,
     "user": {
      "displayName": "Gagana K",
      "userId": "15562097583105794401"
     },
     "user_tz": -330
    },
    "id": "73df3d8c",
    "outputId": "94da5774-e40f-4acd-8a7d-19cd636bb7cc"
   },
   "outputs": [],
   "source": [
    "data"
   ]
  },
  {
   "cell_type": "code",
   "execution_count": null,
   "id": "be227de6",
   "metadata": {
    "colab": {
     "base_uri": "https://localhost:8080/"
    },
    "executionInfo": {
     "elapsed": 369,
     "status": "ok",
     "timestamp": 1650814594061,
     "user": {
      "displayName": "Gagana K",
      "userId": "15562097583105794401"
     },
     "user_tz": -330
    },
    "id": "be227de6",
    "outputId": "9e2dbbf6-c0ff-4b3c-e10d-6877c82ecf54"
   },
   "outputs": [],
   "source": [
    "y"
   ]
  },
  {
   "cell_type": "code",
   "execution_count": null,
   "id": "4959db9a",
   "metadata": {
    "colab": {
     "base_uri": "https://localhost:8080/",
     "height": 505
    },
    "executionInfo": {
     "elapsed": 360,
     "status": "ok",
     "timestamp": 1650814597145,
     "user": {
      "displayName": "Gagana K",
      "userId": "15562097583105794401"
     },
     "user_tz": -330
    },
    "id": "4959db9a",
    "outputId": "1c888806-acb4-459d-f2b1-6f46a14f2153",
    "scrolled": true
   },
   "outputs": [],
   "source": [
    "x"
   ]
  },
  {
   "cell_type": "code",
   "execution_count": null,
   "id": "1f17578f",
   "metadata": {
    "executionInfo": {
     "elapsed": 444,
     "status": "ok",
     "timestamp": 1650814625365,
     "user": {
      "displayName": "Gagana K",
      "userId": "15562097583105794401"
     },
     "user_tz": -330
    },
    "id": "1f17578f"
   },
   "outputs": [],
   "source": [
    "from sklearn.model_selection import train_test_split\n",
    "x_train, x_test, y_train, y_test = train_test_split(x, y, test_size=0.25, random_state=0)"
   ]
  },
  {
   "cell_type": "code",
   "execution_count": null,
   "id": "b4c927aa",
   "metadata": {
    "colab": {
     "base_uri": "https://localhost:8080/",
     "height": 487
    },
    "executionInfo": {
     "elapsed": 507,
     "status": "ok",
     "timestamp": 1650814865449,
     "user": {
      "displayName": "Gagana K",
      "userId": "15562097583105794401"
     },
     "user_tz": -330
    },
    "id": "b4c927aa",
    "outputId": "1344e96f-9d0c-44fd-f4cb-f05814721184"
   },
   "outputs": [],
   "source": [
    "pd.DataFrame(x_train)"
   ]
  },
  {
   "cell_type": "code",
   "execution_count": null,
   "id": "86627833",
   "metadata": {
    "colab": {
     "base_uri": "https://localhost:8080/",
     "height": 487
    },
    "executionInfo": {
     "elapsed": 9,
     "status": "ok",
     "timestamp": 1650814867483,
     "user": {
      "displayName": "Gagana K",
      "userId": "15562097583105794401"
     },
     "user_tz": -330
    },
    "id": "86627833",
    "outputId": "76fa8fad-e346-47fe-f431-b969661bf019"
   },
   "outputs": [],
   "source": [
    "pd.DataFrame(x_test)"
   ]
  },
  {
   "cell_type": "code",
   "execution_count": null,
   "id": "5de4d187",
   "metadata": {
    "colab": {
     "base_uri": "https://localhost:8080/"
    },
    "executionInfo": {
     "elapsed": 534,
     "status": "ok",
     "timestamp": 1650814873164,
     "user": {
      "displayName": "Gagana K",
      "userId": "15562097583105794401"
     },
     "user_tz": -330
    },
    "id": "5de4d187",
    "outputId": "10057d8c-9577-4603-d939-a384f0a2f6c2"
   },
   "outputs": [],
   "source": [
    "y_train"
   ]
  },
  {
   "cell_type": "code",
   "execution_count": null,
   "id": "f86a0849",
   "metadata": {
    "executionInfo": {
     "elapsed": 4,
     "status": "ok",
     "timestamp": 1650814873628,
     "user": {
      "displayName": "Gagana K",
      "userId": "15562097583105794401"
     },
     "user_tz": -330
    },
    "id": "f86a0849"
   },
   "outputs": [],
   "source": [
    "from sklearn.linear_model import LogisticRegression"
   ]
  },
  {
   "cell_type": "code",
   "execution_count": null,
   "id": "6105b770",
   "metadata": {
    "executionInfo": {
     "elapsed": 335,
     "status": "ok",
     "timestamp": 1650814897731,
     "user": {
      "displayName": "Gagana K",
      "userId": "15562097583105794401"
     },
     "user_tz": -330
    },
    "id": "6105b770"
   },
   "outputs": [],
   "source": [
    "logisticRegr = LogisticRegression()"
   ]
  },
  {
   "cell_type": "code",
   "execution_count": null,
   "id": "fb22b409",
   "metadata": {
    "colab": {
     "base_uri": "https://localhost:8080/"
    },
    "executionInfo": {
     "elapsed": 355,
     "status": "ok",
     "timestamp": 1650814902678,
     "user": {
      "displayName": "Gagana K",
      "userId": "15562097583105794401"
     },
     "user_tz": -330
    },
    "id": "fb22b409",
    "outputId": "be235704-b1df-4360-e258-5f4a45b20697"
   },
   "outputs": [],
   "source": [
    "#####Model Fitting/Training###\n",
    "logisticRegr.fit(x_train, y_train)"
   ]
  },
  {
   "cell_type": "code",
   "execution_count": null,
   "id": "6f9470c6",
   "metadata": {
    "executionInfo": {
     "elapsed": 339,
     "status": "ok",
     "timestamp": 1650814905614,
     "user": {
      "displayName": "Gagana K",
      "userId": "15562097583105794401"
     },
     "user_tz": -330
    },
    "id": "6f9470c6"
   },
   "outputs": [],
   "source": [
    "test_pred = logisticRegr.predict(x_test)"
   ]
  },
  {
   "cell_type": "code",
   "execution_count": null,
   "id": "b828836b",
   "metadata": {
    "colab": {
     "base_uri": "https://localhost:8080/"
    },
    "executionInfo": {
     "elapsed": 6,
     "status": "ok",
     "timestamp": 1650814908526,
     "user": {
      "displayName": "Gagana K",
      "userId": "15562097583105794401"
     },
     "user_tz": -330
    },
    "id": "b828836b",
    "outputId": "4fa46a0b-7179-4347-adf3-f19d9a682cff"
   },
   "outputs": [],
   "source": [
    "test_pred"
   ]
  },
  {
   "cell_type": "code",
   "execution_count": null,
   "id": "6e775517",
   "metadata": {},
   "outputs": [],
   "source": [
    "pred = pd.DataFrame() \n",
    "pred[\"y_test\"] = y_test\n",
    "pred[\"y_pred\"] = test_pred\n",
    "pred"
   ]
  },
  {
   "cell_type": "code",
   "execution_count": null,
   "id": "HqFO8ybHPKBB",
   "metadata": {
    "colab": {
     "base_uri": "https://localhost:8080/"
    },
    "executionInfo": {
     "elapsed": 349,
     "status": "ok",
     "timestamp": 1650814958130,
     "user": {
      "displayName": "Gagana K",
      "userId": "15562097583105794401"
     },
     "user_tz": -330
    },
    "id": "HqFO8ybHPKBB",
    "outputId": "51850f13-1ae3-4349-f364-0c66374548cc"
   },
   "outputs": [],
   "source": [
    "from sklearn.metrics import accuracy_score\n",
    "accuracy_score(y_test,test_pred)"
   ]
  },
  {
   "cell_type": "code",
   "execution_count": null,
   "id": "f171842b",
   "metadata": {
    "executionInfo": {
     "elapsed": 352,
     "status": "ok",
     "timestamp": 1650815336228,
     "user": {
      "displayName": "Gagana K",
      "userId": "15562097583105794401"
     },
     "user_tz": -330
    },
    "id": "f171842b"
   },
   "outputs": [],
   "source": [
    "from sklearn.metrics import confusion_matrix"
   ]
  },
  {
   "cell_type": "code",
   "execution_count": null,
   "id": "7273a5bf",
   "metadata": {
    "executionInfo": {
     "elapsed": 5,
     "status": "ok",
     "timestamp": 1650815535357,
     "user": {
      "displayName": "Gagana K",
      "userId": "15562097583105794401"
     },
     "user_tz": -330
    },
    "id": "7273a5bf"
   },
   "outputs": [],
   "source": [
    "c1=confusion_matrix(y_test,test_pred)"
   ]
  },
  {
   "cell_type": "code",
   "execution_count": null,
   "id": "5de495c9",
   "metadata": {
    "colab": {
     "base_uri": "https://localhost:8080/"
    },
    "executionInfo": {
     "elapsed": 4,
     "status": "ok",
     "timestamp": 1650815535835,
     "user": {
      "displayName": "Gagana K",
      "userId": "15562097583105794401"
     },
     "user_tz": -330
    },
    "id": "5de495c9",
    "outputId": "ffc2c8b8-9bd1-4021-9a04-b2d9ac0e8e2a"
   },
   "outputs": [],
   "source": [
    "c1"
   ]
  },
  {
   "cell_type": "raw",
   "id": "0f6ab512",
   "metadata": {
    "id": "0f6ab512"
   },
   "source": [
    "'''\n",
    "Predicted   P\tN\n",
    "                0   1\n",
    "                y  n\n",
    "                \n",
    "                \n",
    "Actual  0  Py \tTP\tFN\n",
    "        1 Nn\tFP\tTN\n",
    "        \n",
    "        \n",
    "        \n",
    "          #Accuracy= TP+TN/TP+TN+FP+FN\n",
    "          #Sensitivity=TP/TP+FN\n",
    "          #Specificity=TN/TN+FP\n",
    "          \n",
    "          \n",
    "Sensitivity: the ability of a test to correctly identify as yes\n",
    "\n",
    "Specificity: the ability of a test to correctly identify as no\n"
   ]
  },
  {
   "cell_type": "code",
   "execution_count": null,
   "id": "51215c78",
   "metadata": {
    "id": "51215c78"
   },
   "outputs": [],
   "source": []
  },
  {
   "cell_type": "code",
   "execution_count": null,
   "id": "e7242781",
   "metadata": {
    "id": "e7242781"
   },
   "outputs": [],
   "source": []
  },
  {
   "cell_type": "code",
   "execution_count": null,
   "id": "80a19e73",
   "metadata": {
    "id": "80a19e73"
   },
   "outputs": [],
   "source": []
  },
  {
   "cell_type": "code",
   "execution_count": null,
   "id": "c4ad6d89",
   "metadata": {
    "id": "c4ad6d89"
   },
   "outputs": [],
   "source": []
  },
  {
   "cell_type": "code",
   "execution_count": null,
   "id": "a018ab50",
   "metadata": {
    "id": "a018ab50"
   },
   "outputs": [],
   "source": []
  },
  {
   "cell_type": "code",
   "execution_count": null,
   "id": "c054b87e",
   "metadata": {
    "id": "c054b87e"
   },
   "outputs": [],
   "source": []
  },
  {
   "cell_type": "code",
   "execution_count": null,
   "id": "4d1964c6",
   "metadata": {
    "id": "4d1964c6"
   },
   "outputs": [],
   "source": []
  },
  {
   "cell_type": "code",
   "execution_count": null,
   "id": "9acd4772",
   "metadata": {
    "id": "9acd4772"
   },
   "outputs": [],
   "source": []
  },
  {
   "cell_type": "code",
   "execution_count": null,
   "id": "fc358adb",
   "metadata": {
    "id": "fc358adb"
   },
   "outputs": [],
   "source": []
  },
  {
   "cell_type": "code",
   "execution_count": null,
   "id": "4683b8f4",
   "metadata": {
    "id": "4683b8f4"
   },
   "outputs": [],
   "source": []
  },
  {
   "cell_type": "code",
   "execution_count": null,
   "id": "6c0a0a77",
   "metadata": {
    "id": "6c0a0a77"
   },
   "outputs": [],
   "source": []
  },
  {
   "cell_type": "code",
   "execution_count": null,
   "id": "16e61544",
   "metadata": {
    "id": "16e61544"
   },
   "outputs": [],
   "source": []
  },
  {
   "cell_type": "code",
   "execution_count": null,
   "id": "be302699",
   "metadata": {
    "id": "be302699"
   },
   "outputs": [],
   "source": []
  },
  {
   "cell_type": "code",
   "execution_count": null,
   "id": "a08db02a",
   "metadata": {
    "id": "a08db02a"
   },
   "outputs": [],
   "source": []
  },
  {
   "cell_type": "code",
   "execution_count": null,
   "id": "8abba9ab",
   "metadata": {
    "id": "8abba9ab"
   },
   "outputs": [],
   "source": []
  }
 ],
 "metadata": {
  "colab": {
   "collapsed_sections": [
    "b0236dba",
    "dbac721a",
    "d96296ab",
    "db62817b",
    "a2642a4a",
    "b3367c53"
   ],
   "name": "Logistic_regression_Hands-on new  mod (1).ipynb",
   "provenance": []
  },
  "kernelspec": {
   "display_name": "Python 3 (ipykernel)",
   "language": "python",
   "name": "python3"
  },
  "language_info": {
   "codemirror_mode": {
    "name": "ipython",
    "version": 3
   },
   "file_extension": ".py",
   "mimetype": "text/x-python",
   "name": "python",
   "nbconvert_exporter": "python",
   "pygments_lexer": "ipython3",
   "version": "3.9.12"
  }
 },
 "nbformat": 4,
 "nbformat_minor": 5
}
